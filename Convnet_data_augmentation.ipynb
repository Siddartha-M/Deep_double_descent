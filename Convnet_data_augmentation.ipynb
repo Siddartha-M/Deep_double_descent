{
 "cells": [
  {
   "cell_type": "code",
   "execution_count": 1,
   "metadata": {},
   "outputs": [],
   "source": [
    "import tensorflow as tf\n",
    "import matplotlib.pyplot as plt\n",
    "import numpy as np\n",
    "import pickle as pkl\n",
    "import time\n",
    "\n",
    "from models.conv_nets import make_convNet \n",
    "from utils.train_utils import timer, inverse_squareroot_lr, train_conv_nets\n",
    "from utils.visualizations import plot_loss_from_file\n",
    "\n",
    "\n",
    "# keeps tensorflow from using all available GPU memory when a model is initialized.\n",
    "gpus = tf.config.list_physical_devices('GPU')\n",
    "tf.config.experimental.set_memory_growth(gpus[0], True)"
   ]
  },
  {
   "cell_type": "code",
   "execution_count": null,
   "metadata": {},
   "outputs": [],
   "source": [
    "data_set = 'cifar10'\n",
    "batch_size=128\n",
    "convnet_depth = 5\n",
    "convnet_widths = [10]\n",
    "label_noise=20\n",
    "\n",
    "results = train_conv_nets(\n",
    "    data_set = data_set,\n",
    "    convnet_depth = convnet_depth,\n",
    "    convnet_widths = convnet_widths,\n",
    "    label_noise_as_int = label_noise,\n",
    "    n_batch_steps = 80000,\n",
    "    optimizer = \"SGD\",\n",
    "    data_save_path_suffix=\"\")"
   ]
  },
  {
   "cell_type": "code",
   "execution_count": 3,
   "metadata": {},
   "outputs": [
    {
     "name": "stderr",
     "output_type": "stream",
     "text": [
      "/home/ecbm4040/anaconda3/envs/envTF22/lib/python3.7/site-packages/ipykernel_launcher.py:1: DeprecationWarning: time.clock has been deprecated in Python 3.3 and will be removed from Python 3.8: use time.perf_counter or time.process_time instead\n",
      "  \"\"\"Entry point for launching an IPython kernel.\n",
      "/home/ecbm4040/anaconda3/envs/envTF22/lib/python3.7/site-packages/ipykernel_launcher.py:36: DeprecationWarning: time.clock has been deprecated in Python 3.3 and will be removed from Python 3.8: use time.perf_counter or time.process_time instead\n"
     ]
    },
    {
     "name": "stdout",
     "output_type": "stream",
     "text": [
      "782.586778\n"
     ]
    },
    {
     "name": "stderr",
     "output_type": "stream",
     "text": [
      "/home/ecbm4040/anaconda3/envs/envTF22/lib/python3.7/site-packages/ipykernel_launcher.py:46: DeprecationWarning: time.clock has been deprecated in Python 3.3 and will be removed from Python 3.8: use time.perf_counter or time.process_time instead\n"
     ]
    },
    {
     "name": "stdout",
     "output_type": "stream",
     "text": [
      "995.026636\n",
      "996.129631\n"
     ]
    },
    {
     "name": "stderr",
     "output_type": "stream",
     "text": [
      "/home/ecbm4040/anaconda3/envs/envTF22/lib/python3.7/site-packages/ipykernel_launcher.py:58: DeprecationWarning: time.clock has been deprecated in Python 3.3 and will be removed from Python 3.8: use time.perf_counter or time.process_time instead\n"
     ]
    }
   ],
   "source": [
    "t0 = time.clock()\n",
    "\n",
    "(x_train, y_train), (x_test, y_test) = tf.keras.datasets.cifar10.load_data()\n",
    "\n",
    "\n",
    "# apply label noise to the data set\n",
    "if 0 < 0.2:\n",
    "    random_idx = np.random.choice(\n",
    "        x_train.shape[0], int(0.2 * x_train.shape[0])\n",
    "    )\n",
    "    rand_labels = np.random.randint(\n",
    "        low=y_train.min(), high=y_train.max(), size=len(random_idx)\n",
    "    )\n",
    "    y_train[random_idx] = np.expand_dims(rand_labels, axis=1)\n",
    "\n",
    "temp = np.zeros((50000,32,32,3))\n",
    "for i in range(50000):\n",
    "    for j in range(32):\n",
    "        for k in range(32):\n",
    "            for l in range(3):\n",
    "                temp[i][j][k][l] = x_train[i][j][k][l]/255\n",
    "\n",
    "temp1 = np.zeros((50000,32,32,3))\n",
    "for i in range(50000):\n",
    "    if np.random.randint(0,2) > 0.5:\n",
    "        for j in range(32):\n",
    "            for k in range(32):\n",
    "                for l in range(3):\n",
    "                    temp1[i][j][31-k][l] = temp[i][j][k][l]\n",
    "    else:\n",
    "        for j in range(32):\n",
    "            for k in range(32):\n",
    "                for l in range(3):\n",
    "                    temp1[i][j][k][l] = temp[i][j][k][l]\n",
    "\n",
    "t1 = time.clock()-t0\n",
    "print(t1)\n",
    "\n",
    "temp2 = np.zeros((50000,40,40,3))+0.5\n",
    "for i in range(50000):\n",
    "    for j in range(32):\n",
    "        for k in range(32):\n",
    "            for l in range(3):\n",
    "                temp2[i][4+j][4+k][l] = temp1[i][j][k][l]\n",
    "\n",
    "t2 = time.clock()-t0\n",
    "print(t2)\n",
    "\n",
    "temp3 = np.zeros((50000,32,32,3))\n",
    "for i in range(50000):\n",
    "    if np.random.randint(0,2) > 0.5:\n",
    "        len_cut = np.random.randint(0,9)\n",
    "        wid_cut = np.random.randint(0,9)\n",
    "        temp3[i] = temp2[i,len_cut:len_cut+32,wid_cut:wid_cut+32]\n",
    "    else:\n",
    "        temp3[i] = temp2[i,4:36,4:36]\n",
    "        \n",
    "t3 = time.clock()-t0\n",
    "print(t3)"
   ]
  },
  {
   "cell_type": "code",
   "execution_count": 21,
   "metadata": {},
   "outputs": [
    {
     "data": {
      "text/plain": [
       "<matplotlib.image.AxesImage at 0x7f49dd4e68d0>"
      ]
     },
     "execution_count": 21,
     "metadata": {},
     "output_type": "execute_result"
    },
    {
     "data": {
      "image/png": "[encoded data removed]",
      "text/plain": [
       "<Figure size 432x288 with 1 Axes>"
      ]
     },
     "metadata": {
      "needs_background": "light"
     },
     "output_type": "display_data"
    }
   ],
   "source": [
    "plt.imshow(temp3[12450])"
   ]
  }
 ],
 "metadata": {
  "kernelspec": {
   "display_name": "Python 3",
   "language": "python",
   "name": "python3"
  },
  "language_info": {
   "codemirror_mode": {
    "name": "ipython",
    "version": 3
   },
   "file_extension": ".py",
   "mimetype": "text/x-python",
   "name": "python",
   "nbconvert_exporter": "python",
   "pygments_lexer": "ipython3",
   "version": "3.7.7"
  }
 },
 "nbformat": 4,
 "nbformat_minor": 4
}
